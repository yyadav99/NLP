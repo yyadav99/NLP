{
  "nbformat": 4,
  "nbformat_minor": 0,
  "metadata": {
    "colab": {
      "name": "Disaster_Prediction.ipynb",
      "provenance": [],
      "collapsed_sections": []
    },
    "kernelspec": {
      "name": "python3",
      "display_name": "Python 3"
    },
    "accelerator": "GPU"
  },
  "cells": [
    {
      "cell_type": "code",
      "metadata": {
        "id": "GmEDCrDgX3Mq",
        "colab_type": "code",
        "colab": {}
      },
      "source": [
        "import re\n",
        "import nltk\n",
        "import string\n",
        "import pickle\n",
        "import numpy as np\n",
        "import seaborn as sns\n",
        "import pandas as pd\n",
        "import tensorflow as tf\n",
        "from numpy import sqrt\n",
        "from numpy import argmax\n",
        "from sklearn import metrics\n",
        "from zipfile import ZipFile \n",
        "import matplotlib.pyplot as plt\n",
        "from sklearn.metrics import roc_curve\n",
        "from sklearn.svm import LinearSVC\n",
        "from sklearn.naive_bayes import MultinomialNB\n",
        "from sklearn.naive_bayes import BernoulliNB\n",
        "from sklearn.linear_model import LogisticRegression\n",
        "from sklearn.model_selection import train_test_split\n",
        "from sklearn.feature_extraction.text import TfidfVectorizer\n",
        "from sklearn.model_selection import train_test_split\n",
        "from sklearn.metrics import classification_report,confusion_matrix\n",
        "from tensorflow.keras.preprocessing.text import Tokenizer\n",
        "from tensorflow.keras.preprocessing.sequence import pad_sequences"
      ],
      "execution_count": 77,
      "outputs": []
    },
    {
      "cell_type": "code",
      "metadata": {
        "id": "kXq_QMiyvMnz",
        "colab_type": "code",
        "colab": {}
      },
      "source": [
        "path = r\"/content/drive/My Drive/DataSet/Disaster_Tweets_Train.csv\"\n",
        "df = pd.read_csv(path, encoding='latin-1',usecols=[3,4])"
      ],
      "execution_count": 78,
      "outputs": []
    },
    {
      "cell_type": "code",
      "metadata": {
        "id": "CobhMm553xUt",
        "colab_type": "code",
        "colab": {
          "base_uri": "https://localhost:8080/",
          "height": 197
        },
        "outputId": "606cd373-0275-4b1e-9b3e-a700a1c77876"
      },
      "source": [
        "df.head()"
      ],
      "execution_count": 79,
      "outputs": [
        {
          "output_type": "execute_result",
          "data": {
            "text/html": [
              "<div>\n",
              "<style scoped>\n",
              "    .dataframe tbody tr th:only-of-type {\n",
              "        vertical-align: middle;\n",
              "    }\n",
              "\n",
              "    .dataframe tbody tr th {\n",
              "        vertical-align: top;\n",
              "    }\n",
              "\n",
              "    .dataframe thead th {\n",
              "        text-align: right;\n",
              "    }\n",
              "</style>\n",
              "<table border=\"1\" class=\"dataframe\">\n",
              "  <thead>\n",
              "    <tr style=\"text-align: right;\">\n",
              "      <th></th>\n",
              "      <th>text</th>\n",
              "      <th>target</th>\n",
              "    </tr>\n",
              "  </thead>\n",
              "  <tbody>\n",
              "    <tr>\n",
              "      <th>0</th>\n",
              "      <td>Our Deeds are the Reason of this #earthquake M...</td>\n",
              "      <td>1</td>\n",
              "    </tr>\n",
              "    <tr>\n",
              "      <th>1</th>\n",
              "      <td>Forest fire near La Ronge Sask. Canada</td>\n",
              "      <td>1</td>\n",
              "    </tr>\n",
              "    <tr>\n",
              "      <th>2</th>\n",
              "      <td>All residents asked to 'shelter in place' are ...</td>\n",
              "      <td>1</td>\n",
              "    </tr>\n",
              "    <tr>\n",
              "      <th>3</th>\n",
              "      <td>13,000 people receive #wildfires evacuation or...</td>\n",
              "      <td>1</td>\n",
              "    </tr>\n",
              "    <tr>\n",
              "      <th>4</th>\n",
              "      <td>Just got sent this photo from Ruby #Alaska as ...</td>\n",
              "      <td>1</td>\n",
              "    </tr>\n",
              "  </tbody>\n",
              "</table>\n",
              "</div>"
            ],
            "text/plain": [
              "                                                text  target\n",
              "0  Our Deeds are the Reason of this #earthquake M...       1\n",
              "1             Forest fire near La Ronge Sask. Canada       1\n",
              "2  All residents asked to 'shelter in place' are ...       1\n",
              "3  13,000 people receive #wildfires evacuation or...       1\n",
              "4  Just got sent this photo from Ruby #Alaska as ...       1"
            ]
          },
          "metadata": {
            "tags": []
          },
          "execution_count": 79
        }
      ]
    },
    {
      "cell_type": "code",
      "metadata": {
        "id": "akkpzdHQYCsC",
        "colab_type": "code",
        "colab": {
          "base_uri": "https://localhost:8080/",
          "height": 70
        },
        "outputId": "88800c1c-0006-41a9-a612-836adb417805"
      },
      "source": [
        "pd.value_counts(df.target)"
      ],
      "execution_count": 80,
      "outputs": [
        {
          "output_type": "execute_result",
          "data": {
            "text/plain": [
              "0    4342\n",
              "1    3271\n",
              "Name: target, dtype: int64"
            ]
          },
          "metadata": {
            "tags": []
          },
          "execution_count": 80
        }
      ]
    },
    {
      "cell_type": "code",
      "metadata": {
        "id": "sDAdkWP1rEX3",
        "colab_type": "code",
        "colab": {
          "base_uri": "https://localhost:8080/",
          "height": 282
        },
        "outputId": "382a4b08-c9ad-4192-9a1d-e0b511b79e54"
      },
      "source": [
        "val_count = df.target.value_counts()\n",
        "\n",
        "plt.figure(figsize=(8,4))\n",
        "plt.bar(val_count.index, val_count.values)\n"
      ],
      "execution_count": 81,
      "outputs": [
        {
          "output_type": "execute_result",
          "data": {
            "text/plain": [
              "<BarContainer object of 2 artists>"
            ]
          },
          "metadata": {
            "tags": []
          },
          "execution_count": 81
        },
        {
          "output_type": "display_data",
          "data": {
            "image/png": "[encoded data removed]",
            "text/plain": [
              "<Figure size 576x288 with 1 Axes>"
            ]
          },
          "metadata": {
            "tags": [],
            "needs_background": "light"
          }
        }
      ]
    },
    {
      "cell_type": "code",
      "metadata": {
        "id": "z7AtclDE9h3u",
        "colab_type": "code",
        "colab": {
          "base_uri": "https://localhost:8080/",
          "height": 406
        },
        "outputId": "52fc1e05-bf5e-44e0-d936-80a785c29db0"
      },
      "source": [
        "df"
      ],
      "execution_count": 82,
      "outputs": [
        {
          "output_type": "execute_result",
          "data": {
            "text/html": [
              "<div>\n",
              "<style scoped>\n",
              "    .dataframe tbody tr th:only-of-type {\n",
              "        vertical-align: middle;\n",
              "    }\n",
              "\n",
              "    .dataframe tbody tr th {\n",
              "        vertical-align: top;\n",
              "    }\n",
              "\n",
              "    .dataframe thead th {\n",
              "        text-align: right;\n",
              "    }\n",
              "</style>\n",
              "<table border=\"1\" class=\"dataframe\">\n",
              "  <thead>\n",
              "    <tr style=\"text-align: right;\">\n",
              "      <th></th>\n",
              "      <th>text</th>\n",
              "      <th>target</th>\n",
              "    </tr>\n",
              "  </thead>\n",
              "  <tbody>\n",
              "    <tr>\n",
              "      <th>0</th>\n",
              "      <td>Our Deeds are the Reason of this #earthquake M...</td>\n",
              "      <td>1</td>\n",
              "    </tr>\n",
              "    <tr>\n",
              "      <th>1</th>\n",
              "      <td>Forest fire near La Ronge Sask. Canada</td>\n",
              "      <td>1</td>\n",
              "    </tr>\n",
              "    <tr>\n",
              "      <th>2</th>\n",
              "      <td>All residents asked to 'shelter in place' are ...</td>\n",
              "      <td>1</td>\n",
              "    </tr>\n",
              "    <tr>\n",
              "      <th>3</th>\n",
              "      <td>13,000 people receive #wildfires evacuation or...</td>\n",
              "      <td>1</td>\n",
              "    </tr>\n",
              "    <tr>\n",
              "      <th>4</th>\n",
              "      <td>Just got sent this photo from Ruby #Alaska as ...</td>\n",
              "      <td>1</td>\n",
              "    </tr>\n",
              "    <tr>\n",
              "      <th>...</th>\n",
              "      <td>...</td>\n",
              "      <td>...</td>\n",
              "    </tr>\n",
              "    <tr>\n",
              "      <th>7608</th>\n",
              "      <td>Two giant cranes holding a bridge collapse int...</td>\n",
              "      <td>1</td>\n",
              "    </tr>\n",
              "    <tr>\n",
              "      <th>7609</th>\n",
              "      <td>@aria_ahrary @TheTawniest The out of control w...</td>\n",
              "      <td>1</td>\n",
              "    </tr>\n",
              "    <tr>\n",
              "      <th>7610</th>\n",
              "      <td>M1.94 [01:04 UTC]?5km S of Volcano Hawaii. htt...</td>\n",
              "      <td>1</td>\n",
              "    </tr>\n",
              "    <tr>\n",
              "      <th>7611</th>\n",
              "      <td>Police investigating after an e-bike collided ...</td>\n",
              "      <td>1</td>\n",
              "    </tr>\n",
              "    <tr>\n",
              "      <th>7612</th>\n",
              "      <td>The Latest: More Homes Razed by Northern Calif...</td>\n",
              "      <td>1</td>\n",
              "    </tr>\n",
              "  </tbody>\n",
              "</table>\n",
              "<p>7613 rows × 2 columns</p>\n",
              "</div>"
            ],
            "text/plain": [
              "                                                   text  target\n",
              "0     Our Deeds are the Reason of this #earthquake M...       1\n",
              "1                Forest fire near La Ronge Sask. Canada       1\n",
              "2     All residents asked to 'shelter in place' are ...       1\n",
              "3     13,000 people receive #wildfires evacuation or...       1\n",
              "4     Just got sent this photo from Ruby #Alaska as ...       1\n",
              "...                                                 ...     ...\n",
              "7608  Two giant cranes holding a bridge collapse int...       1\n",
              "7609  @aria_ahrary @TheTawniest The out of control w...       1\n",
              "7610  M1.94 [01:04 UTC]?5km S of Volcano Hawaii. htt...       1\n",
              "7611  Police investigating after an e-bike collided ...       1\n",
              "7612  The Latest: More Homes Razed by Northern Calif...       1\n",
              "\n",
              "[7613 rows x 2 columns]"
            ]
          },
          "metadata": {
            "tags": []
          },
          "execution_count": 82
        }
      ]
    },
    {
      "cell_type": "code",
      "metadata": {
        "id": "a3cnJ50Z96Vw",
        "colab_type": "code",
        "colab": {
          "base_uri": "https://localhost:8080/",
          "height": 87
        },
        "outputId": "76274bdd-c118-42b4-f3e7-de2ccc41af5b"
      },
      "source": [
        "from nltk.corpus import stopwords\n",
        "from nltk.stem import PorterStemmer\n",
        "nltk.download('stopwords')\n",
        "nltk.download('punkt')\n",
        "stop_words = stopwords.words('english')\n",
        "stemmer = PorterStemmer()\n",
        "punctuation=[]\n",
        "for i in string.punctuation:\n",
        "    punctuation.append(i)\n",
        "\n",
        "def text_processing(text):\n",
        "    text=text.lower()\n",
        "    re_exp=r\"http.\\S+|[^a-zA-z0-9]|#\\S*|@\\S*|\\[.+\\]\"\n",
        "    text=re.sub(re_exp,\" \",text)\n",
        "    sentence=[]\n",
        "    for word in text.split():\n",
        "        if word not in stop_words:\n",
        "            if word not in punctuation:\n",
        "                sentence.append(stemmer.stem(word))\n",
        "    return \" \".join(sentence)"
      ],
      "execution_count": 83,
      "outputs": [
        {
          "output_type": "stream",
          "text": [
            "[nltk_data] Downloading package stopwords to /root/nltk_data...\n",
            "[nltk_data]   Package stopwords is already up-to-date!\n",
            "[nltk_data] Downloading package punkt to /root/nltk_data...\n",
            "[nltk_data]   Package punkt is already up-to-date!\n"
          ],
          "name": "stdout"
        }
      ]
    },
    {
      "cell_type": "code",
      "metadata": {
        "id": "ai6wvnIS-g4q",
        "colab_type": "code",
        "colab": {}
      },
      "source": [
        "df.text=df.text.apply(lambda x: text_preprocessing(x) )"
      ],
      "execution_count": 84,
      "outputs": []
    },
    {
      "cell_type": "code",
      "metadata": {
        "id": "NqvgmClM-q1G",
        "colab_type": "code",
        "colab": {
          "base_uri": "https://localhost:8080/",
          "height": 406
        },
        "outputId": "d349bd8a-43ea-446d-93eb-23505fcf255e"
      },
      "source": [
        "df"
      ],
      "execution_count": 85,
      "outputs": [
        {
          "output_type": "execute_result",
          "data": {
            "text/html": [
              "<div>\n",
              "<style scoped>\n",
              "    .dataframe tbody tr th:only-of-type {\n",
              "        vertical-align: middle;\n",
              "    }\n",
              "\n",
              "    .dataframe tbody tr th {\n",
              "        vertical-align: top;\n",
              "    }\n",
              "\n",
              "    .dataframe thead th {\n",
              "        text-align: right;\n",
              "    }\n",
              "</style>\n",
              "<table border=\"1\" class=\"dataframe\">\n",
              "  <thead>\n",
              "    <tr style=\"text-align: right;\">\n",
              "      <th></th>\n",
              "      <th>text</th>\n",
              "      <th>target</th>\n",
              "    </tr>\n",
              "  </thead>\n",
              "  <tbody>\n",
              "    <tr>\n",
              "      <th>0</th>\n",
              "      <td>deed reason earthquak may allah forgiv us</td>\n",
              "      <td>1</td>\n",
              "    </tr>\n",
              "    <tr>\n",
              "      <th>1</th>\n",
              "      <td>forest fire near la rong sask canada</td>\n",
              "      <td>1</td>\n",
              "    </tr>\n",
              "    <tr>\n",
              "      <th>2</th>\n",
              "      <td>resid ask shelter place notifi offic evacu she...</td>\n",
              "      <td>1</td>\n",
              "    </tr>\n",
              "    <tr>\n",
              "      <th>3</th>\n",
              "      <td>13 000 peopl receiv wildfir evacu order califo...</td>\n",
              "      <td>1</td>\n",
              "    </tr>\n",
              "    <tr>\n",
              "      <th>4</th>\n",
              "      <td>got sent photo rubi alaska smoke wildfir pour ...</td>\n",
              "      <td>1</td>\n",
              "    </tr>\n",
              "    <tr>\n",
              "      <th>...</th>\n",
              "      <td>...</td>\n",
              "      <td>...</td>\n",
              "    </tr>\n",
              "    <tr>\n",
              "      <th>7608</th>\n",
              "      <td>two giant crane hold bridg collaps nearbi home</td>\n",
              "      <td>1</td>\n",
              "    </tr>\n",
              "    <tr>\n",
              "      <th>7609</th>\n",
              "      <td>control wild fire california even northern par...</td>\n",
              "      <td>1</td>\n",
              "    </tr>\n",
              "    <tr>\n",
              "      <th>7610</th>\n",
              "      <td>m1 94 01 04 utc 5km volcano hawaii</td>\n",
              "      <td>1</td>\n",
              "    </tr>\n",
              "    <tr>\n",
              "      <th>7611</th>\n",
              "      <td>polic investig e bike collid car littl portug ...</td>\n",
              "      <td>1</td>\n",
              "    </tr>\n",
              "    <tr>\n",
              "      <th>7612</th>\n",
              "      <td>latest home raze northern california wildfir a...</td>\n",
              "      <td>1</td>\n",
              "    </tr>\n",
              "  </tbody>\n",
              "</table>\n",
              "<p>7613 rows × 2 columns</p>\n",
              "</div>"
            ],
            "text/plain": [
              "                                                   text  target\n",
              "0             deed reason earthquak may allah forgiv us       1\n",
              "1                  forest fire near la rong sask canada       1\n",
              "2     resid ask shelter place notifi offic evacu she...       1\n",
              "3     13 000 peopl receiv wildfir evacu order califo...       1\n",
              "4     got sent photo rubi alaska smoke wildfir pour ...       1\n",
              "...                                                 ...     ...\n",
              "7608     two giant crane hold bridg collaps nearbi home       1\n",
              "7609  control wild fire california even northern par...       1\n",
              "7610                 m1 94 01 04 utc 5km volcano hawaii       1\n",
              "7611  polic investig e bike collid car littl portug ...       1\n",
              "7612  latest home raze northern california wildfir a...       1\n",
              "\n",
              "[7613 rows x 2 columns]"
            ]
          },
          "metadata": {
            "tags": []
          },
          "execution_count": 85
        }
      ]
    },
    {
      "cell_type": "code",
      "metadata": {
        "id": "G8lgHqiaYFV2",
        "colab_type": "code",
        "colab": {}
      },
      "source": [
        "X_train, X_test, y_train, y_test = train_test_split(df[\"text\"],df[\"target\"], test_size=0.10, random_state=48)"
      ],
      "execution_count": 86,
      "outputs": []
    },
    {
      "cell_type": "code",
      "metadata": {
        "id": "9sN3T3_uYFte",
        "colab_type": "code",
        "colab": {
          "base_uri": "https://localhost:8080/",
          "height": 34
        },
        "outputId": "8432f187-8045-4352-81b8-b18227076967"
      },
      "source": [
        "training_sentences = []\n",
        "testing_sentences = []\n",
        "\n",
        "print('prepearing train and test...')\n",
        "# Train\n",
        "for s in X_train:\n",
        "    training_sentences.append(s)\n",
        "#Test\n",
        "for s in X_test:\n",
        "    testing_sentences.append(s)\n"
      ],
      "execution_count": 87,
      "outputs": [
        {
          "output_type": "stream",
          "text": [
            "prepearing train and test...\n"
          ],
          "name": "stdout"
        }
      ]
    },
    {
      "cell_type": "code",
      "metadata": {
        "id": "BybH3zZam8uY",
        "colab_type": "code",
        "colab": {}
      },
      "source": [
        "y_train=np.array(y_train)\n",
        "y_test=np.array(y_test)"
      ],
      "execution_count": 88,
      "outputs": []
    },
    {
      "cell_type": "code",
      "metadata": {
        "id": "2RViclUUYFyg",
        "colab_type": "code",
        "colab": {}
      },
      "source": [
        "vocab_len=10000\n",
        "max_len=150\n",
        "truncating_type=\"post\"\n",
        "emb_dimension=200\n",
        "oov_string= \"<OOV>\"\n",
        "tokenizer = Tokenizer(num_words = vocab_len, oov_token= oov_string)\n",
        "tokenizer.fit_on_texts(training_sentences)\n",
        "word_index = tokenizer.word_index\n",
        "\n",
        "sequences = tokenizer.texts_to_sequences(training_sentences)\n",
        "padded = pad_sequences(sequences, maxlen=max_len, truncating=truncating_type)\n",
        "\n",
        "testing_sequences = tokenizer.texts_to_sequences(testing_sentences)\n",
        "testing_padded = pad_sequences(testing_sequences, maxlen=max_len)"
      ],
      "execution_count": 89,
      "outputs": []
    },
    {
      "cell_type": "code",
      "metadata": {
        "id": "KlGRl-VdYF3L",
        "colab_type": "code",
        "colab": {
          "base_uri": "https://localhost:8080/",
          "height": 407
        },
        "outputId": "bcc89432-12d6-4b0c-fd9f-122f49c78bbc"
      },
      "source": [
        "model= tf.keras.Sequential([\n",
        "    tf.keras.layers.Embedding(vocab_len,emb_dimension),\n",
        "    tf.keras.layers.Bidirectional(tf.keras.layers.LSTM(64,return_sequences=True)),\n",
        "    tf.keras.layers.Bidirectional(tf.keras.layers.LSTM(32)),\n",
        "    tf.keras.layers.Dense(1024,activation=\"relu\"),\n",
        "    tf.keras.layers.Dropout(0.3),\n",
        "    tf.keras.layers.Dense(254,activation=\"relu\"),\n",
        "    tf.keras.layers.Dense(1,activation=\"sigmoid\")\n",
        "])\n",
        "model.compile(loss=\"binary_crossentropy\", optimizer=\"adam\",metrics=[\"accuracy\"])\n",
        "model.summary()"
      ],
      "execution_count": 90,
      "outputs": [
        {
          "output_type": "stream",
          "text": [
            "Model: \"sequential_3\"\n",
            "_________________________________________________________________\n",
            "Layer (type)                 Output Shape              Param #   \n",
            "=================================================================\n",
            "embedding_3 (Embedding)      (None, None, 200)         2000000   \n",
            "_________________________________________________________________\n",
            "bidirectional_6 (Bidirection (None, None, 128)         135680    \n",
            "_________________________________________________________________\n",
            "bidirectional_7 (Bidirection (None, 64)                41216     \n",
            "_________________________________________________________________\n",
            "dense_9 (Dense)              (None, 1024)              66560     \n",
            "_________________________________________________________________\n",
            "dropout_3 (Dropout)          (None, 1024)              0         \n",
            "_________________________________________________________________\n",
            "dense_10 (Dense)             (None, 254)               260350    \n",
            "_________________________________________________________________\n",
            "dense_11 (Dense)             (None, 1)                 255       \n",
            "=================================================================\n",
            "Total params: 2,504,061\n",
            "Trainable params: 2,504,061\n",
            "Non-trainable params: 0\n",
            "_________________________________________________________________\n"
          ],
          "name": "stdout"
        }
      ]
    },
    {
      "cell_type": "code",
      "metadata": {
        "id": "jJ52qenAscmj",
        "colab_type": "code",
        "colab": {
          "base_uri": "https://localhost:8080/",
          "height": 87
        },
        "outputId": "740fea1d-6495-459a-de87-989aa3585683"
      },
      "source": [
        "history = model.fit(padded,\n",
        "                    y_train,\n",
        "                    epochs=2,\n",
        "                    batch_size=100,\n",
        "                    validation_data=(testing_padded,y_test)\n",
        "                    )"
      ],
      "execution_count": 91,
      "outputs": [
        {
          "output_type": "stream",
          "text": [
            "Epoch 1/2\n",
            "69/69 [==============================] - 5s 68ms/step - loss: 0.5378 - accuracy: 0.7234 - val_loss: 0.4280 - val_accuracy: 0.8123\n",
            "Epoch 2/2\n",
            "69/69 [==============================] - 3s 48ms/step - loss: 0.3057 - accuracy: 0.8807 - val_loss: 0.4659 - val_accuracy: 0.8045\n"
          ],
          "name": "stdout"
        }
      ]
    },
    {
      "cell_type": "code",
      "metadata": {
        "id": "LrQOQQ0pscW5",
        "colab_type": "code",
        "colab": {
          "base_uri": "https://localhost:8080/",
          "height": 541
        },
        "outputId": "291326bd-db60-4c76-a3f9-7e8be1ea01e8"
      },
      "source": [
        "def plotgraph (history,string):\n",
        "  plt.plot(history.history[string])\n",
        "  plt.plot(history.history[\"val_\"+string])\n",
        "  plt.xlabel(\"Epochs\")\n",
        "  plt.ylabel(string)\n",
        "  plt.legend([string,\"val_\"+string])\n",
        "  plt.show()\n",
        "\n",
        "plotgraph (history,\"accuracy\")\n",
        "plotgraph (history,\"loss\")"
      ],
      "execution_count": 92,
      "outputs": [
        {
          "output_type": "display_data",
          "data": {
            "image/png": "[encoded data removed]",
            "text/plain": [
              "<Figure size 432x288 with 1 Axes>"
            ]
          },
          "metadata": {
            "tags": [],
            "needs_background": "light"
          }
        },
        {
          "output_type": "display_data",
          "data": {
            "image/png": "[encoded data removed]",
            "text/plain": [
              "<Figure size 432x288 with 1 Axes>"
            ]
          },
          "metadata": {
            "tags": [],
            "needs_background": "light"
          }
        }
      ]
    },
    {
      "cell_type": "code",
      "metadata": {
        "id": "5oAVJNYljW68",
        "colab_type": "code",
        "colab": {
          "base_uri": "https://localhost:8080/",
          "height": 176
        },
        "outputId": "0fd0d2ba-ff2a-4e55-ff6a-825440764a01"
      },
      "source": [
        "preds = model.predict(testing_padded)\n",
        "print(classification_report(y_test, preds.round()))"
      ],
      "execution_count": 93,
      "outputs": [
        {
          "output_type": "stream",
          "text": [
            "              precision    recall  f1-score   support\n",
            "\n",
            "           0       0.79      0.89      0.84       437\n",
            "           1       0.83      0.68      0.75       325\n",
            "\n",
            "    accuracy                           0.80       762\n",
            "   macro avg       0.81      0.79      0.79       762\n",
            "weighted avg       0.81      0.80      0.80       762\n",
            "\n"
          ],
          "name": "stdout"
        }
      ]
    },
    {
      "cell_type": "code",
      "metadata": {
        "id": "cqi1jfcSjXY3",
        "colab_type": "code",
        "colab": {
          "base_uri": "https://localhost:8080/",
          "height": 320
        },
        "outputId": "8e7fa615-402e-4339-f4ab-39191dc0f876"
      },
      "source": [
        "cf_matrix = confusion_matrix(y_test, preds.round())\n",
        "f,ax=plt.subplots()\n",
        "sns.heatmap(cf_matrix,annot=True,cmap='cubehelix',fmt=\"03\") \n",
        "ax.set_title('Confusion Matrix',fontsize=16)\n",
        "ax.set_xlabel('Predict',fontsize=16)\n",
        "ax.set_ylabel('True',fontsize=16) "
      ],
      "execution_count": 94,
      "outputs": [
        {
          "output_type": "execute_result",
          "data": {
            "text/plain": [
              "Text(33.0, 0.5, 'True')"
            ]
          },
          "metadata": {
            "tags": []
          },
          "execution_count": 94
        },
        {
          "output_type": "display_data",
          "data": {
            "image/png": "[encoded data removed]",
            "text/plain": [
              "<Figure size 432x288 with 2 Axes>"
            ]
          },
          "metadata": {
            "tags": [],
            "needs_background": "light"
          }
        }
      ]
    },
    {
      "cell_type": "code",
      "metadata": {
        "id": "80LVrBNRjX83",
        "colab_type": "code",
        "colab": {
          "base_uri": "https://localhost:8080/",
          "height": 958
        },
        "outputId": "b8b8d54d-33c0-43dd-e8e3-cfac8826f7b7"
      },
      "source": [
        "fpr, tpr, thresholds = metrics.roc_curve(y_test, preds, pos_label=None)\n",
        "thresholds"
      ],
      "execution_count": 95,
      "outputs": [
        {
          "output_type": "execute_result",
          "data": {
            "text/plain": [
              "array([1.9998902 , 0.9998902 , 0.9996799 , 0.99966025, 0.9989151 ,\n",
              "       0.99887913, 0.9986469 , 0.9985794 , 0.99738914, 0.99736005,\n",
              "       0.99717987, 0.99702615, 0.99629647, 0.99623907, 0.9935499 ,\n",
              "       0.99271786, 0.99210703, 0.9917317 , 0.9900221 , 0.98971456,\n",
              "       0.98427653, 0.98424476, 0.9834404 , 0.9827717 , 0.9751635 ,\n",
              "       0.9742969 , 0.96042573, 0.9602926 , 0.95191085, 0.95106626,\n",
              "       0.9335476 , 0.93312114, 0.924351  , 0.9227797 , 0.91916174,\n",
              "       0.9168955 , 0.88823813, 0.8844691 , 0.8625339 , 0.8617845 ,\n",
              "       0.8604055 , 0.86018056, 0.8589116 , 0.85697556, 0.8567519 ,\n",
              "       0.85594434, 0.8428407 , 0.84270525, 0.81616014, 0.8150235 ,\n",
              "       0.8122632 , 0.8073336 , 0.80367225, 0.80352765, 0.80165344,\n",
              "       0.7988808 , 0.7969462 , 0.7783579 , 0.7777088 , 0.7722347 ,\n",
              "       0.76558703, 0.75490296, 0.7506781 , 0.74178857, 0.7391951 ,\n",
              "       0.7222927 , 0.71472627, 0.68599325, 0.6845994 , 0.6764311 ,\n",
              "       0.67133427, 0.6565104 , 0.63824874, 0.6346802 , 0.6156663 ,\n",
              "       0.6004329 , 0.5904181 , 0.5818605 , 0.5763433 , 0.56378883,\n",
              "       0.5563422 , 0.5557389 , 0.54965687, 0.54076546, 0.5370122 ,\n",
              "       0.5290527 , 0.5201698 , 0.5021849 , 0.49510053, 0.48436517,\n",
              "       0.4642382 , 0.4570638 , 0.44321546, 0.43627906, 0.43040133,\n",
              "       0.4291671 , 0.41914916, 0.41440368, 0.40977618, 0.39985028,\n",
              "       0.3931573 , 0.3904676 , 0.3717878 , 0.3580355 , 0.3550768 ,\n",
              "       0.35406515, 0.34422687, 0.34129208, 0.33841166, 0.33626485,\n",
              "       0.33609346, 0.33492336, 0.3301539 , 0.32616735, 0.3204096 ,\n",
              "       0.31845227, 0.31663543, 0.31347367, 0.3108211 , 0.3107905 ,\n",
              "       0.31063887, 0.31025952, 0.31006944, 0.30897132, 0.3058897 ,\n",
              "       0.30430183, 0.29984063, 0.2994532 , 0.29816985, 0.29800892,\n",
              "       0.29447114, 0.2942544 , 0.29046175, 0.28682053, 0.28426328,\n",
              "       0.28362495, 0.2743119 , 0.2698244 , 0.26885486, 0.26766777,\n",
              "       0.26699117, 0.2666558 , 0.2596809 , 0.25865602, 0.25483662,\n",
              "       0.25378883, 0.24264112, 0.24123569, 0.23532854, 0.2337887 ,\n",
              "       0.23229966, 0.2313334 , 0.22674914, 0.22590142, 0.22107607,\n",
              "       0.22090594, 0.2162379 , 0.21412139, 0.21121095, 0.21051131,\n",
              "       0.20870434, 0.20854492, 0.20381558, 0.20196083, 0.20133759,\n",
              "       0.19954203, 0.19831693, 0.19817539, 0.18870847, 0.18822552,\n",
              "       0.18187508, 0.1818303 , 0.18045092, 0.180236  , 0.17865466,\n",
              "       0.1780024 , 0.17707397, 0.17660592, 0.16373432, 0.16351293,\n",
              "       0.15904273, 0.1560483 , 0.15393203, 0.15330349, 0.15233564,\n",
              "       0.15196829, 0.14741789, 0.14649098, 0.14246397, 0.14191024,\n",
              "       0.1389827 , 0.13647276, 0.1288801 , 0.12843785, 0.12532425,\n",
              "       0.12355525, 0.12157898, 0.11997113, 0.11905871, 0.11802542,\n",
              "       0.11778684, 0.11675222, 0.11659295, 0.11639001, 0.1128081 ,\n",
              "       0.11240774, 0.11174066, 0.1113986 , 0.11086471, 0.11052852,\n",
              "       0.10450009, 0.10419031, 0.10383116, 0.1034533 , 0.10165609,\n",
              "       0.10139123, 0.09938736, 0.0990378 , 0.09673708, 0.09633233,\n",
              "       0.09567102, 0.09477641, 0.08837352, 0.08832088, 0.08819737,\n",
              "       0.08772385, 0.0759298 , 0.0757627 , 0.07351278, 0.07336626,\n",
              "       0.07183276, 0.07158002, 0.07087672, 0.07056368, 0.07021856,\n",
              "       0.069835  , 0.06796589, 0.06784606, 0.0667287 , 0.06652147,\n",
              "       0.05613504, 0.05565802, 0.05269344, 0.05169071, 0.05014884,\n",
              "       0.04936244, 0.04935699, 0.04910612, 0.04895207, 0.04817452,\n",
              "       0.04501482, 0.04466249, 0.0436223 , 0.04322216, 0.03857412,\n",
              "       0.03852627, 0.03733969, 0.03029343, 0.02907613, 0.01614274,\n",
              "       0.01515092, 0.0149267 , 0.01438482, 0.01127725], dtype=float32)"
            ]
          },
          "metadata": {
            "tags": []
          },
          "execution_count": 95
        }
      ]
    },
    {
      "cell_type": "code",
      "metadata": {
        "id": "SiVHcdBijX1R",
        "colab_type": "code",
        "colab": {
          "base_uri": "https://localhost:8080/",
          "height": 34
        },
        "outputId": "bc8f30bc-5462-4760-a8a3-9d5df68288f4"
      },
      "source": [
        "fpr, tpr, thresholds = roc_curve(y_test, preds)\n",
        "gmeans = sqrt(tpr * (1-fpr))\n",
        "ix = argmax(gmeans)\n",
        "print('Best Threshold=%f, G-Mean=%.3f' % (thresholds[ix], gmeans[ix]))"
      ],
      "execution_count": 96,
      "outputs": [
        {
          "output_type": "stream",
          "text": [
            "Best Threshold=0.358036, G-Mean=0.790\n"
          ],
          "name": "stdout"
        }
      ]
    },
    {
      "cell_type": "code",
      "metadata": {
        "id": "5dFL-yLijj55",
        "colab_type": "code",
        "colab": {
          "base_uri": "https://localhost:8080/",
          "height": 278
        },
        "outputId": "23563e6b-2c11-4ef1-e1fa-7cdf249688c2"
      },
      "source": [
        "plt.plot([0,1], [0,1], linestyle='--', label='No Skill')\n",
        "plt.plot(fpr, tpr, label='Logistic')\n",
        "plt.scatter(fpr[ix], tpr[ix], marker='o', color='black', label='Best')\n",
        "plt.xlabel('False Positive Rate')\n",
        "plt.ylabel('True Positive Rate')\n",
        "plt.legend()\n",
        "plt.show()"
      ],
      "execution_count": 97,
      "outputs": [
        {
          "output_type": "display_data",
          "data": {
            "image/png": "[encoded data removed]",
            "text/plain": [
              "<Figure size 432x288 with 1 Axes>"
            ]
          },
          "metadata": {
            "tags": [],
            "needs_background": "light"
          }
        }
      ]
    },
    {
      "cell_type": "code",
      "metadata": {
        "id": "ZeswMmao_WXj",
        "colab_type": "code",
        "colab": {
          "base_uri": "https://localhost:8080/",
          "height": 406
        },
        "outputId": "419b99b5-3ca8-4e10-edaa-c1457baf00c8"
      },
      "source": [
        "df"
      ],
      "execution_count": 98,
      "outputs": [
        {
          "output_type": "execute_result",
          "data": {
            "text/html": [
              "<div>\n",
              "<style scoped>\n",
              "    .dataframe tbody tr th:only-of-type {\n",
              "        vertical-align: middle;\n",
              "    }\n",
              "\n",
              "    .dataframe tbody tr th {\n",
              "        vertical-align: top;\n",
              "    }\n",
              "\n",
              "    .dataframe thead th {\n",
              "        text-align: right;\n",
              "    }\n",
              "</style>\n",
              "<table border=\"1\" class=\"dataframe\">\n",
              "  <thead>\n",
              "    <tr style=\"text-align: right;\">\n",
              "      <th></th>\n",
              "      <th>text</th>\n",
              "      <th>target</th>\n",
              "    </tr>\n",
              "  </thead>\n",
              "  <tbody>\n",
              "    <tr>\n",
              "      <th>0</th>\n",
              "      <td>deed reason earthquak may allah forgiv us</td>\n",
              "      <td>1</td>\n",
              "    </tr>\n",
              "    <tr>\n",
              "      <th>1</th>\n",
              "      <td>forest fire near la rong sask canada</td>\n",
              "      <td>1</td>\n",
              "    </tr>\n",
              "    <tr>\n",
              "      <th>2</th>\n",
              "      <td>resid ask shelter place notifi offic evacu she...</td>\n",
              "      <td>1</td>\n",
              "    </tr>\n",
              "    <tr>\n",
              "      <th>3</th>\n",
              "      <td>13 000 peopl receiv wildfir evacu order califo...</td>\n",
              "      <td>1</td>\n",
              "    </tr>\n",
              "    <tr>\n",
              "      <th>4</th>\n",
              "      <td>got sent photo rubi alaska smoke wildfir pour ...</td>\n",
              "      <td>1</td>\n",
              "    </tr>\n",
              "    <tr>\n",
              "      <th>...</th>\n",
              "      <td>...</td>\n",
              "      <td>...</td>\n",
              "    </tr>\n",
              "    <tr>\n",
              "      <th>7608</th>\n",
              "      <td>two giant crane hold bridg collaps nearbi home</td>\n",
              "      <td>1</td>\n",
              "    </tr>\n",
              "    <tr>\n",
              "      <th>7609</th>\n",
              "      <td>control wild fire california even northern par...</td>\n",
              "      <td>1</td>\n",
              "    </tr>\n",
              "    <tr>\n",
              "      <th>7610</th>\n",
              "      <td>m1 94 01 04 utc 5km volcano hawaii</td>\n",
              "      <td>1</td>\n",
              "    </tr>\n",
              "    <tr>\n",
              "      <th>7611</th>\n",
              "      <td>polic investig e bike collid car littl portug ...</td>\n",
              "      <td>1</td>\n",
              "    </tr>\n",
              "    <tr>\n",
              "      <th>7612</th>\n",
              "      <td>latest home raze northern california wildfir a...</td>\n",
              "      <td>1</td>\n",
              "    </tr>\n",
              "  </tbody>\n",
              "</table>\n",
              "<p>7613 rows × 2 columns</p>\n",
              "</div>"
            ],
            "text/plain": [
              "                                                   text  target\n",
              "0             deed reason earthquak may allah forgiv us       1\n",
              "1                  forest fire near la rong sask canada       1\n",
              "2     resid ask shelter place notifi offic evacu she...       1\n",
              "3     13 000 peopl receiv wildfir evacu order califo...       1\n",
              "4     got sent photo rubi alaska smoke wildfir pour ...       1\n",
              "...                                                 ...     ...\n",
              "7608     two giant crane hold bridg collaps nearbi home       1\n",
              "7609  control wild fire california even northern par...       1\n",
              "7610                 m1 94 01 04 utc 5km volcano hawaii       1\n",
              "7611  polic investig e bike collid car littl portug ...       1\n",
              "7612  latest home raze northern california wildfir a...       1\n",
              "\n",
              "[7613 rows x 2 columns]"
            ]
          },
          "metadata": {
            "tags": []
          },
          "execution_count": 98
        }
      ]
    },
    {
      "cell_type": "code",
      "metadata": {
        "id": "-2ESb1Zr_WVV",
        "colab_type": "code",
        "colab": {}
      },
      "source": [
        "X_train, X_test, y_train, y_test = train_test_split(df[\"text\"],df[\"target\"], test_size=0.2,random_state=2316)"
      ],
      "execution_count": 99,
      "outputs": []
    },
    {
      "cell_type": "code",
      "metadata": {
        "id": "1eMY3z_O_WQA",
        "colab_type": "code",
        "colab": {}
      },
      "source": [
        "vectoriser = TfidfVectorizer(ngram_range=(1,3), max_features=500)\n",
        "X_train=vectoriser.fit_transform(X_train)\n",
        "X_test=vectoriser.fit_transform(X_test)"
      ],
      "execution_count": 100,
      "outputs": []
    },
    {
      "cell_type": "code",
      "metadata": {
        "id": "BwNbHr9-_WRX",
        "colab_type": "code",
        "colab": {}
      },
      "source": [
        "def model_Evaluate(model):\n",
        "    y_pred = model.predict(X_test)\n",
        "    print(classification_report(y_test, y_pred))\n",
        "    cf_matrix = confusion_matrix(y_test, y_pred)\n",
        "    f,ax=plt.subplots()\n",
        "    sns.heatmap(cf_matrix,annot=True,cmap='cubehelix',fmt=\"05\") \n",
        "    ax.set_title('Confusion Matrix',fontsize=16)\n",
        "    ax.set_xlabel('Predict',fontsize=16)\n",
        "    ax.set_ylabel('True',fontsize=16) \n"
      ],
      "execution_count": 101,
      "outputs": []
    },
    {
      "cell_type": "code",
      "metadata": {
        "id": "wMfTSekf_WL2",
        "colab_type": "code",
        "colab": {
          "base_uri": "https://localhost:8080/",
          "height": 462
        },
        "outputId": "649c57b7-c913-4d4c-fc71-47dc7abca48a"
      },
      "source": [
        "BNBmodel = BernoulliNB(alpha = 2).fit(X_train, y_train)\n",
        "model_Evaluate(BNBmodel)"
      ],
      "execution_count": 102,
      "outputs": [
        {
          "output_type": "stream",
          "text": [
            "              precision    recall  f1-score   support\n",
            "\n",
            "           0       0.64      0.66      0.65       883\n",
            "           1       0.51      0.49      0.50       640\n",
            "\n",
            "    accuracy                           0.59      1523\n",
            "   macro avg       0.58      0.58      0.58      1523\n",
            "weighted avg       0.59      0.59      0.59      1523\n",
            "\n"
          ],
          "name": "stdout"
        },
        {
          "output_type": "display_data",
          "data": {
            "image/png": "[encoded data removed]",
            "text/plain": [
              "<Figure size 432x288 with 2 Axes>"
            ]
          },
          "metadata": {
            "tags": [],
            "needs_background": "light"
          }
        }
      ]
    },
    {
      "cell_type": "code",
      "metadata": {
        "id": "VFyn5RJQ_WKp",
        "colab_type": "code",
        "colab": {
          "base_uri": "https://localhost:8080/",
          "height": 462
        },
        "outputId": "ada17f5b-0541-4409-c46d-ca93567045c5"
      },
      "source": [
        "SVCmodel = LinearSVC().fit(X_train, y_train)\n",
        "model_Evaluate(SVCmodel)"
      ],
      "execution_count": 103,
      "outputs": [
        {
          "output_type": "stream",
          "text": [
            "              precision    recall  f1-score   support\n",
            "\n",
            "           0       0.64      0.67      0.65       883\n",
            "           1       0.51      0.48      0.50       640\n",
            "\n",
            "    accuracy                           0.59      1523\n",
            "   macro avg       0.58      0.58      0.58      1523\n",
            "weighted avg       0.59      0.59      0.59      1523\n",
            "\n"
          ],
          "name": "stdout"
        },
        {
          "output_type": "display_data",
          "data": {
            "image/png": "[encoded data removed]",
            "text/plain": [
              "<Figure size 432x288 with 2 Axes>"
            ]
          },
          "metadata": {
            "tags": [],
            "needs_background": "light"
          }
        }
      ]
    },
    {
      "cell_type": "code",
      "metadata": {
        "id": "4V4dTYEt_WFG",
        "colab_type": "code",
        "colab": {
          "base_uri": "https://localhost:8080/",
          "height": 462
        },
        "outputId": "6044e4fe-689f-4306-b0a7-f77dbb67e247"
      },
      "source": [
        "LRmodel = LogisticRegression(C = 2, max_iter = 1000, n_jobs=-1).fit(X_train, y_train)\n",
        "model_Evaluate(LRmodel)"
      ],
      "execution_count": 104,
      "outputs": [
        {
          "output_type": "stream",
          "text": [
            "              precision    recall  f1-score   support\n",
            "\n",
            "           0       0.64      0.68      0.66       883\n",
            "           1       0.51      0.46      0.49       640\n",
            "\n",
            "    accuracy                           0.59      1523\n",
            "   macro avg       0.57      0.57      0.57      1523\n",
            "weighted avg       0.58      0.59      0.59      1523\n",
            "\n"
          ],
          "name": "stdout"
        },
        {
          "output_type": "display_data",
          "data": {
            "image/png": "[encoded data removed]",
            "text/plain": [
              "<Figure size 432x288 with 2 Axes>"
            ]
          },
          "metadata": {
            "tags": [],
            "needs_background": "light"
          }
        }
      ]
    },
    {
      "cell_type": "code",
      "metadata": {
        "id": "RWxER4q6_Vtj",
        "colab_type": "code",
        "colab": {
          "base_uri": "https://localhost:8080/",
          "height": 462
        },
        "outputId": "07d88bba-f628-4627-e4ce-260477349029"
      },
      "source": [
        "Multinomial_model = MultinomialNB().fit(X_train,y_train)\n",
        "model_Evaluate(Multinomial_model)"
      ],
      "execution_count": 105,
      "outputs": [
        {
          "output_type": "stream",
          "text": [
            "              precision    recall  f1-score   support\n",
            "\n",
            "           0       0.62      0.64      0.63       883\n",
            "           1       0.48      0.45      0.46       640\n",
            "\n",
            "    accuracy                           0.56      1523\n",
            "   macro avg       0.55      0.55      0.55      1523\n",
            "weighted avg       0.56      0.56      0.56      1523\n",
            "\n"
          ],
          "name": "stdout"
        },
        {
          "output_type": "display_data",
          "data": {
            "image/png": "[encoded data removed]",
            "text/plain": [
              "<Figure size 432x288 with 2 Axes>"
            ]
          },
          "metadata": {
            "tags": [],
            "needs_background": "light"
          }
        }
      ]
    },
    {
      "cell_type": "code",
      "metadata": {
        "id": "EJhWT0ZcvdhO",
        "colab_type": "code",
        "colab": {}
      },
      "source": [
        ""
      ],
      "execution_count": 105,
      "outputs": []
    }
  ]
}